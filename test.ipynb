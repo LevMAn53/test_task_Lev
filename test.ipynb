{
 "cells": [
  {
   "cell_type": "code",
   "execution_count": 19,
   "id": "44a4320e-99a2-4c93-9402-b519a30b6164",
   "metadata": {},
   "outputs": [],
   "source": [
    "import pandas as pd\n",
    "import numpy as np\n",
    "\n",
    "# завантажуємо і чистимо датасет\n",
    "file_path = '/Users/levmanulak/Desktop/Data 11-17 September.csv'\n",
    "data = pd.read_csv(file_path, delimiter=';', skipinitialspace=True)\n",
    "data.columns = data.columns.str.strip()\n",
    "data = data.map(lambda x: x.strip() if isinstance(x, str) else x)"
   ]
  },
  {
   "cell_type": "code",
   "execution_count": 21,
   "id": "0e1ccf96-f2b7-45cc-a057-90aa84995603",
   "metadata": {},
   "outputs": [],
   "source": [
    "# девайс та підписка юзера\n",
    "data['subscription_length'] = data['gp:product_id'].str.extract(r'(\\d+)days').astype(float)\n",
    "device_stats = data.groupby('device_type')['subscription_length'].agg(['mean', 'count'])"
   ]
  },
  {
   "cell_type": "code",
   "execution_count": null,
   "id": "14aa609f-ed77-4f65-b742-464f2bf48537",
   "metadata": {},
   "outputs": [],
   "source": [
    "#ширший аналіз девайсу та підписки по країнах\n",
    "\n",
    "# середня довжина підписки по девайсах\n",
    "device_subscription_stats = data.groupby('device_type')['subscription_length'].agg(['mean', 'count']).reset_index()\n",
    "\n",
    "# різниця у тріалах і довгих підписках по девайсах\n",
    "device_trial_counts = data[data['gp:product_id'].str.contains('trial')].groupby('device_type').size()\n",
    "device_long_term_counts = data[data['subscription_length'] > 30].groupby('device_type').size()"
   ]
  },
  {
   "cell_type": "code",
   "execution_count": 61,
   "id": "74f46f9c-08de-4f01-9c18-7e25f09c954d",
   "metadata": {},
   "outputs": [],
   "source": [
    "# локація та довжина купленої підписки\n",
    "trial_subs_by_country = data[data['gp:product_id'].str.contains('trial')].groupby('country').size()\n",
    "\n",
    "discounted_subscriptions_by_country = data[data['gp:product_id'].str.contains('down')].groupby('country').size()\n",
    "\n",
    "upsells_by_country = data[data['gp:upsell_product_id'].notna()].groupby('country').size()"
   ]
  },
  {
   "cell_type": "code",
   "execution_count": 65,
   "id": "a3c9b4a9-c13d-465a-b2c0-f81a7b4b3ea9",
   "metadata": {},
   "outputs": [],
   "source": [
    "# ефективність каналів оплати\n",
    "payment_stats = data.groupby('gp:payment_type')['subscription_length'].mean()\n",
    "\n",
    "# ефективність апселів\n",
    "upsells_by_payment_type = data[data['gp:upsell_product_id'].notna()].groupby('gp:payment_type').size()"
   ]
  },
  {
   "cell_type": "code",
   "execution_count": 69,
   "id": "2e982856-072a-441d-9dfd-5dd3cdd1716a",
   "metadata": {},
   "outputs": [],
   "source": [
    "# ефективність каналів і співвідношення до продаж\n",
    "subscriptions_by_medium = data.groupby('gp:placement').size()\n",
    "\n",
    "#середня довжина підписки по каналах\n",
    "average_length_by_medium = data.groupby('gp:placement')['subscription_length'].mean()\n",
    "\n",
    "# осн.країни та довжина підписок у них\n",
    "key_countries = ['United States', 'United Kingdom', 'Singapore']\n",
    "subscriptions_by_medium_country = data[data['country'].isin(key_countries)].groupby(['gp:placement', 'country']).size().unstack(fill_value=0)"
   ]
  },
  {
   "cell_type": "code",
   "execution_count": 33,
   "id": "ced98a82-b049-43c2-aa04-9ce995dfe027",
   "metadata": {},
   "outputs": [],
   "source": [
    "# мова і к-сть продажів \n",
    "language_stats = data.groupby('language')['subscription_length'].mean()\n",
    "\n",
    "#лише тріалки\n",
    "trials_by_language = data[data['gp:product_id'].str.contains('trial')].groupby('language').size()\n",
    "\n",
    "#довгі підписки\n",
    "long_term_subs_by_language = data[data['subscription_length'] > 30].groupby('language').size()"
   ]
  },
  {
   "cell_type": "code",
   "execution_count": null,
   "id": "6e8b2cc3-6c33-4b42-a0d5-83a7b6297c87",
   "metadata": {},
   "outputs": [],
   "source": []
  }
 ],
 "metadata": {
  "kernelspec": {
   "display_name": "Python 3 (ipykernel)",
   "language": "python",
   "name": "python3"
  },
  "language_info": {
   "codemirror_mode": {
    "name": "ipython",
    "version": 3
   },
   "file_extension": ".py",
   "mimetype": "text/x-python",
   "name": "python",
   "nbconvert_exporter": "python",
   "pygments_lexer": "ipython3",
   "version": "3.12.4"
  }
 },
 "nbformat": 4,
 "nbformat_minor": 5
}
